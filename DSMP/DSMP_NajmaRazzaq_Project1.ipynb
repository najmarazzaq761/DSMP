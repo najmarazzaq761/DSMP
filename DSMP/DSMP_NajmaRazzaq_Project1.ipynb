{
 "cells": [
  {
   "cell_type": "code",
   "execution_count": 4,
   "metadata": {},
   "outputs": [],
   "source": [
    "# Base Class: Course\n",
    "class Course:\n",
    "    def __init__(self, course_name, credits, instructor):\n",
    "        self.__course_name = course_name  # Encapsulated attributes\n",
    "        self.__credits = credits\n",
    "        self.__instructor = instructor\n",
    "    \n",
    "    # Public methods for encapsulated attributes\n",
    "    def get_course_name(self):\n",
    "        return self.__course_name\n",
    "    \n",
    "    def get_credits(self):\n",
    "        return self.__credits\n",
    "    \n",
    "    def get_instructor(self):\n",
    "        return self.__instructor\n",
    "    \n",
    "    # Method to simulate enrolling a student\n",
    "    def enroll_student(self, student_name):\n",
    "        print(f\"{student_name} has been enrolled in {self.__course_name}.\")\n",
    "    \n",
    "    # Abstract method to get the course syllabus\n",
    "    def get_syllabus(self):\n",
    "        raise NotImplementedError(\"This method should be overridden by subclasses.\")\n",
    "    \n",
    "    # Polymorphic method to get the schedule (will be overridden)\n",
    "    def get_schedule(self):\n",
    "        return \"Course schedule: General schedule for all courses.\"\n"
   ]
  },
  {
   "cell_type": "code",
   "execution_count": 5,
   "metadata": {},
   "outputs": [],
   "source": [
    "# Derived Class: ProgrammingCourse\n",
    "class ProgrammingCourse(Course):\n",
    "    def __init__(self, course_name, credits, instructor, programming_language):\n",
    "        super().__init__(course_name, credits, instructor)\n",
    "        self.programming_language = programming_language  # Specific attribute for programming courses\n",
    "    \n",
    "    # Override the get_syllabus method\n",
    "    def get_syllabus(self):\n",
    "        return f\"Syllabus for {self.get_course_name()}: Focuses on {self.programming_language} programming.\"\n",
    "    \n",
    "    # Polymorphic method to get a specific schedule for programming courses\n",
    "    def get_schedule(self):\n",
    "        return f\"{self.get_course_name()} Schedule: Includes coding assignments and lab sessions.\"\n",
    "\n",
    "    # Specific method for programming courses\n",
    "    def get_practical_exercises(self):\n",
    "        return f\"{self.get_course_name()} Practical Exercises: Focuses on hands-on {self.programming_language} projects.\"\n",
    "\n"
   ]
  },
  {
   "cell_type": "code",
   "execution_count": 6,
   "metadata": {},
   "outputs": [],
   "source": [
    "# Derived Class: MathematicsCourse\n",
    "class MathematicsCourse(Course):\n",
    "    def __init__(self, course_name, credits, instructor, math_field):\n",
    "        super().__init__(course_name, credits, instructor)\n",
    "        self.math_field = math_field  # Specific attribute for mathematics courses\n",
    "    \n",
    "    # Override the get_syllabus method\n",
    "    def get_syllabus(self):\n",
    "        return f\"Syllabus for {self.get_course_name()}: Focuses on advanced {self.math_field} concepts.\"\n",
    "    \n",
    "    # Polymorphic method to get a specific schedule for mathematics courses\n",
    "    def get_schedule(self):\n",
    "        return f\"{self.get_course_name()} Schedule: Includes theory lectures and problem-solving sessions.\"\n",
    "    \n",
    "    # Specific method for mathematics courses\n",
    "    def get_formula_sheet(self):\n",
    "        return f\"{self.get_course_name()} Formula Sheet: Contains key formulas for {self.math_field}.\""
   ]
  },
  {
   "cell_type": "code",
   "execution_count": 7,
   "metadata": {},
   "outputs": [
    {
     "name": "stdout",
     "output_type": "stream",
     "text": [
      "Najma has been enrolled in Programming Fundamentals.\n",
      "Uzma has been enrolled in Calculus.\n",
      "Syllabus for Programming Fundamentals: Focuses on Python programming.\n",
      "Syllabus for Calculus: Focuses on advanced Calculus concepts.\n",
      "Programming Fundamentals Schedule: Includes coding assignments and lab sessions.\n",
      "Calculus Schedule: Includes theory lectures and problem-solving sessions.\n",
      "Programming Fundamentals Practical Exercises: Focuses on hands-on Python projects.\n",
      "Calculus Formula Sheet: Contains key formulas for Calculus.\n"
     ]
    }
   ],
   "source": [
    "# Usage of the Course Management System\n",
    "def main():\n",
    "    # Creating objects of ProgrammingCourse and MathematicsCourse\n",
    "    course1 = ProgrammingCourse(\"Programming Fundamentals\", 3, \"Dr. Ali\", \"Python\")\n",
    "    course2 = MathematicsCourse(\"Calculus\", 4, \"Prof. Ahmed\", \"Calculus\")\n",
    "    \n",
    "    # Enroll students\n",
    "    course1.enroll_student(\"Najma\")\n",
    "    course2.enroll_student(\"Uzma\")\n",
    "    \n",
    "    # Get syllabus for both courses\n",
    "    print(course1.get_syllabus())\n",
    "    print(course2.get_syllabus())\n",
    "    \n",
    "    # Get schedules (polymorphism)\n",
    "    print(course1.get_schedule())\n",
    "    print(course2.get_schedule())\n",
    "    \n",
    "    # Specific methods for ProgrammingCourse and MathematicsCourse\n",
    "    print(course1.get_practical_exercises())\n",
    "    print(course2.get_formula_sheet())\n",
    "\n",
    "if __name__ == \"__main__\":\n",
    "    main()"
   ]
  }
 ],
 "metadata": {
  "kernelspec": {
   "display_name": "Python 3",
   "language": "python",
   "name": "python3"
  },
  "language_info": {
   "codemirror_mode": {
    "name": "ipython",
    "version": 3
   },
   "file_extension": ".py",
   "mimetype": "text/x-python",
   "name": "python",
   "nbconvert_exporter": "python",
   "pygments_lexer": "ipython3",
   "version": "3.12.5"
  }
 },
 "nbformat": 4,
 "nbformat_minor": 2
}
